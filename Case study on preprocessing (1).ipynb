{
 "cells": [
  {
   "cell_type": "markdown",
   "id": "2de45552",
   "metadata": {},
   "source": [
    "# Group members:Blessy john,Nafeela Pary"
   ]
  },
  {
   "cell_type": "code",
   "execution_count": null,
   "id": "8404f955",
   "metadata": {},
   "outputs": [],
   "source": [
    "import numpy as np\n",
    "import pandas as pd\n",
    "import matplotlib.pyplot as plt\n",
    "import seaborn as sns"
   ]
  },
  {
   "cell_type": "code",
   "execution_count": 2,
   "id": "f4998ef2",
   "metadata": {},
   "outputs": [],
   "source": [
    "data=pd.read_excel(r'E:\\blessy\\ict\\E-commerce.xlsx')"
   ]
  },
  {
   "cell_type": "code",
   "execution_count": 3,
   "id": "0d55eac9",
   "metadata": {},
   "outputs": [
    {
     "data": {
      "text/html": [
       "<div>\n",
       "<style scoped>\n",
       "    .dataframe tbody tr th:only-of-type {\n",
       "        vertical-align: middle;\n",
       "    }\n",
       "\n",
       "    .dataframe tbody tr th {\n",
       "        vertical-align: top;\n",
       "    }\n",
       "\n",
       "    .dataframe thead th {\n",
       "        text-align: right;\n",
       "    }\n",
       "</style>\n",
       "<table border=\"1\" class=\"dataframe\">\n",
       "  <thead>\n",
       "    <tr style=\"text-align: right;\">\n",
       "      <th></th>\n",
       "      <th>server_time</th>\n",
       "      <th>device_type</th>\n",
       "      <th>user_id</th>\n",
       "      <th>session_id</th>\n",
       "      <th>item_id</th>\n",
       "      <th>item_price</th>\n",
       "      <th>category</th>\n",
       "      <th>product_type</th>\n",
       "      <th>impression_time</th>\n",
       "      <th>app_code</th>\n",
       "      <th>os_version</th>\n",
       "      <th>is_4G</th>\n",
       "      <th>is_click</th>\n",
       "    </tr>\n",
       "  </thead>\n",
       "  <tbody>\n",
       "    <tr>\n",
       "      <th>0</th>\n",
       "      <td>2018-10-18 14:27:00</td>\n",
       "      <td>android</td>\n",
       "      <td>87862.0</td>\n",
       "      <td>268465.0</td>\n",
       "      <td>44459.0</td>\n",
       "      <td>4602.0</td>\n",
       "      <td>11.0</td>\n",
       "      <td>3040.0</td>\n",
       "      <td>2018-11-15 00:00:00</td>\n",
       "      <td>422.0</td>\n",
       "      <td>old</td>\n",
       "      <td>0</td>\n",
       "      <td>0</td>\n",
       "    </tr>\n",
       "    <tr>\n",
       "      <th>1</th>\n",
       "      <td>2018-10-18 14:27:00</td>\n",
       "      <td>android</td>\n",
       "      <td>63410.0</td>\n",
       "      <td>268465.0</td>\n",
       "      <td>44459.0</td>\n",
       "      <td>3513.0</td>\n",
       "      <td>12.0</td>\n",
       "      <td>6822.0</td>\n",
       "      <td>2018-11-15 00:01:00</td>\n",
       "      <td>467.0</td>\n",
       "      <td>latest</td>\n",
       "      <td>1</td>\n",
       "      <td>1</td>\n",
       "    </tr>\n",
       "    <tr>\n",
       "      <th>2</th>\n",
       "      <td>2018-10-18 14:43:00</td>\n",
       "      <td>android</td>\n",
       "      <td>71748.0</td>\n",
       "      <td>268465.0</td>\n",
       "      <td>44459.0</td>\n",
       "      <td>825.0</td>\n",
       "      <td>17.0</td>\n",
       "      <td>1619.0</td>\n",
       "      <td>2018-11-15 00:02:00</td>\n",
       "      <td>259.0</td>\n",
       "      <td>intermediate</td>\n",
       "      <td>1</td>\n",
       "      <td>0</td>\n",
       "    </tr>\n",
       "    <tr>\n",
       "      <th>3</th>\n",
       "      <td>2018-10-18 14:46:00</td>\n",
       "      <td>android</td>\n",
       "      <td>69209.0</td>\n",
       "      <td>268465.0</td>\n",
       "      <td>44459.0</td>\n",
       "      <td>2355.0</td>\n",
       "      <td>13.0</td>\n",
       "      <td>5264.0</td>\n",
       "      <td>2018-11-15 00:02:00</td>\n",
       "      <td>244.0</td>\n",
       "      <td>latest</td>\n",
       "      <td>1</td>\n",
       "      <td>0</td>\n",
       "    </tr>\n",
       "    <tr>\n",
       "      <th>4</th>\n",
       "      <td>2018-10-18 14:46:00</td>\n",
       "      <td>android</td>\n",
       "      <td>62873.0</td>\n",
       "      <td>268465.0</td>\n",
       "      <td>44459.0</td>\n",
       "      <td>1267.0</td>\n",
       "      <td>17.0</td>\n",
       "      <td>10239.0</td>\n",
       "      <td>2018-11-15 00:02:00</td>\n",
       "      <td>473.0</td>\n",
       "      <td>latest</td>\n",
       "      <td>0</td>\n",
       "      <td>0</td>\n",
       "    </tr>\n",
       "  </tbody>\n",
       "</table>\n",
       "</div>"
      ],
      "text/plain": [
       "          server_time device_type  user_id  session_id  item_id  item_price  \\\n",
       "0 2018-10-18 14:27:00     android  87862.0    268465.0  44459.0      4602.0   \n",
       "1 2018-10-18 14:27:00     android  63410.0    268465.0  44459.0      3513.0   \n",
       "2 2018-10-18 14:43:00     android  71748.0    268465.0  44459.0       825.0   \n",
       "3 2018-10-18 14:46:00     android  69209.0    268465.0  44459.0      2355.0   \n",
       "4 2018-10-18 14:46:00     android  62873.0    268465.0  44459.0      1267.0   \n",
       "\n",
       "   category  product_type     impression_time  app_code    os_version  is_4G  \\\n",
       "0      11.0        3040.0 2018-11-15 00:00:00     422.0           old      0   \n",
       "1      12.0        6822.0 2018-11-15 00:01:00     467.0        latest      1   \n",
       "2      17.0        1619.0 2018-11-15 00:02:00     259.0  intermediate      1   \n",
       "3      13.0        5264.0 2018-11-15 00:02:00     244.0        latest      1   \n",
       "4      17.0       10239.0 2018-11-15 00:02:00     473.0        latest      0   \n",
       "\n",
       "   is_click  \n",
       "0         0  \n",
       "1         1  \n",
       "2         0  \n",
       "3         0  \n",
       "4         0  "
      ]
     },
     "execution_count": 3,
     "metadata": {},
     "output_type": "execute_result"
    }
   ],
   "source": [
    "data.head()"
   ]
  },
  {
   "cell_type": "code",
   "execution_count": 4,
   "id": "bed74e8e",
   "metadata": {},
   "outputs": [
    {
     "data": {
      "text/plain": [
       "(2025, 13)"
      ]
     },
     "execution_count": 4,
     "metadata": {},
     "output_type": "execute_result"
    }
   ],
   "source": [
    "data.shape"
   ]
  },
  {
   "cell_type": "code",
   "execution_count": 5,
   "id": "69ae5e68",
   "metadata": {},
   "outputs": [
    {
     "data": {
      "text/html": [
       "<div>\n",
       "<style scoped>\n",
       "    .dataframe tbody tr th:only-of-type {\n",
       "        vertical-align: middle;\n",
       "    }\n",
       "\n",
       "    .dataframe tbody tr th {\n",
       "        vertical-align: top;\n",
       "    }\n",
       "\n",
       "    .dataframe thead th {\n",
       "        text-align: right;\n",
       "    }\n",
       "</style>\n",
       "<table border=\"1\" class=\"dataframe\">\n",
       "  <thead>\n",
       "    <tr style=\"text-align: right;\">\n",
       "      <th></th>\n",
       "      <th>user_id</th>\n",
       "      <th>session_id</th>\n",
       "      <th>item_id</th>\n",
       "      <th>item_price</th>\n",
       "      <th>category</th>\n",
       "      <th>product_type</th>\n",
       "      <th>app_code</th>\n",
       "      <th>is_4G</th>\n",
       "      <th>is_click</th>\n",
       "    </tr>\n",
       "  </thead>\n",
       "  <tbody>\n",
       "    <tr>\n",
       "      <th>count</th>\n",
       "      <td>2022.000000</td>\n",
       "      <td>2.024000e+03</td>\n",
       "      <td>2023.000000</td>\n",
       "      <td>2024.000000</td>\n",
       "      <td>2019.000000</td>\n",
       "      <td>2024.000000</td>\n",
       "      <td>2024.000000</td>\n",
       "      <td>2025.000000</td>\n",
       "      <td>2025.000000</td>\n",
       "    </tr>\n",
       "    <tr>\n",
       "      <th>mean</th>\n",
       "      <td>46714.461919</td>\n",
       "      <td>5.473724e+05</td>\n",
       "      <td>63505.154721</td>\n",
       "      <td>6661.115119</td>\n",
       "      <td>10.290738</td>\n",
       "      <td>5359.607213</td>\n",
       "      <td>244.741107</td>\n",
       "      <td>0.342222</td>\n",
       "      <td>0.049877</td>\n",
       "    </tr>\n",
       "    <tr>\n",
       "      <th>std</th>\n",
       "      <td>26401.598808</td>\n",
       "      <td>3.108620e+05</td>\n",
       "      <td>36830.177344</td>\n",
       "      <td>17296.372880</td>\n",
       "      <td>4.961514</td>\n",
       "      <td>3076.114288</td>\n",
       "      <td>124.477650</td>\n",
       "      <td>0.474571</td>\n",
       "      <td>0.217744</td>\n",
       "    </tr>\n",
       "    <tr>\n",
       "      <th>min</th>\n",
       "      <td>10.000000</td>\n",
       "      <td>1.694000e+03</td>\n",
       "      <td>176.000000</td>\n",
       "      <td>16.000000</td>\n",
       "      <td>0.000000</td>\n",
       "      <td>6.000000</td>\n",
       "      <td>1.000000</td>\n",
       "      <td>0.000000</td>\n",
       "      <td>0.000000</td>\n",
       "    </tr>\n",
       "    <tr>\n",
       "      <th>25%</th>\n",
       "      <td>24853.000000</td>\n",
       "      <td>2.738070e+05</td>\n",
       "      <td>33845.500000</td>\n",
       "      <td>1465.000000</td>\n",
       "      <td>7.000000</td>\n",
       "      <td>2758.750000</td>\n",
       "      <td>190.000000</td>\n",
       "      <td>0.000000</td>\n",
       "      <td>0.000000</td>\n",
       "    </tr>\n",
       "    <tr>\n",
       "      <th>50%</th>\n",
       "      <td>46248.000000</td>\n",
       "      <td>5.440370e+05</td>\n",
       "      <td>62896.000000</td>\n",
       "      <td>2425.000000</td>\n",
       "      <td>11.000000</td>\n",
       "      <td>5355.500000</td>\n",
       "      <td>207.000000</td>\n",
       "      <td>0.000000</td>\n",
       "      <td>0.000000</td>\n",
       "    </tr>\n",
       "    <tr>\n",
       "      <th>75%</th>\n",
       "      <td>69375.500000</td>\n",
       "      <td>7.996875e+05</td>\n",
       "      <td>91322.000000</td>\n",
       "      <td>4793.000000</td>\n",
       "      <td>14.000000</td>\n",
       "      <td>8121.000000</td>\n",
       "      <td>371.000000</td>\n",
       "      <td>1.000000</td>\n",
       "      <td>0.000000</td>\n",
       "    </tr>\n",
       "    <tr>\n",
       "      <th>max</th>\n",
       "      <td>92508.000000</td>\n",
       "      <td>1.089219e+06</td>\n",
       "      <td>132865.000000</td>\n",
       "      <td>239360.000000</td>\n",
       "      <td>17.000000</td>\n",
       "      <td>10573.000000</td>\n",
       "      <td>508.000000</td>\n",
       "      <td>1.000000</td>\n",
       "      <td>1.000000</td>\n",
       "    </tr>\n",
       "  </tbody>\n",
       "</table>\n",
       "</div>"
      ],
      "text/plain": [
       "            user_id    session_id        item_id     item_price     category  \\\n",
       "count   2022.000000  2.024000e+03    2023.000000    2024.000000  2019.000000   \n",
       "mean   46714.461919  5.473724e+05   63505.154721    6661.115119    10.290738   \n",
       "std    26401.598808  3.108620e+05   36830.177344   17296.372880     4.961514   \n",
       "min       10.000000  1.694000e+03     176.000000      16.000000     0.000000   \n",
       "25%    24853.000000  2.738070e+05   33845.500000    1465.000000     7.000000   \n",
       "50%    46248.000000  5.440370e+05   62896.000000    2425.000000    11.000000   \n",
       "75%    69375.500000  7.996875e+05   91322.000000    4793.000000    14.000000   \n",
       "max    92508.000000  1.089219e+06  132865.000000  239360.000000    17.000000   \n",
       "\n",
       "       product_type     app_code        is_4G     is_click  \n",
       "count   2024.000000  2024.000000  2025.000000  2025.000000  \n",
       "mean    5359.607213   244.741107     0.342222     0.049877  \n",
       "std     3076.114288   124.477650     0.474571     0.217744  \n",
       "min        6.000000     1.000000     0.000000     0.000000  \n",
       "25%     2758.750000   190.000000     0.000000     0.000000  \n",
       "50%     5355.500000   207.000000     0.000000     0.000000  \n",
       "75%     8121.000000   371.000000     1.000000     0.000000  \n",
       "max    10573.000000   508.000000     1.000000     1.000000  "
      ]
     },
     "execution_count": 5,
     "metadata": {},
     "output_type": "execute_result"
    }
   ],
   "source": [
    "data.describe()"
   ]
  },
  {
   "cell_type": "code",
   "execution_count": 6,
   "id": "739ec3c3",
   "metadata": {},
   "outputs": [
    {
     "data": {
      "text/plain": [
       "server_time        0\n",
       "device_type        0\n",
       "user_id            3\n",
       "session_id         1\n",
       "item_id            2\n",
       "item_price         1\n",
       "category           6\n",
       "product_type       1\n",
       "impression_time    0\n",
       "app_code           1\n",
       "os_version         9\n",
       "is_4G              0\n",
       "is_click           0\n",
       "dtype: int64"
      ]
     },
     "execution_count": 6,
     "metadata": {},
     "output_type": "execute_result"
    }
   ],
   "source": [
    "data.isna().sum()"
   ]
  },
  {
   "cell_type": "code",
   "execution_count": 7,
   "id": "bd8497e5",
   "metadata": {},
   "outputs": [
    {
     "data": {
      "text/plain": [
       "(2025, 13)"
      ]
     },
     "execution_count": 7,
     "metadata": {},
     "output_type": "execute_result"
    }
   ],
   "source": [
    "data.shape"
   ]
  },
  {
   "cell_type": "code",
   "execution_count": 8,
   "id": "fafef5ce",
   "metadata": {},
   "outputs": [
    {
     "data": {
      "image/png": "[encoded data removed]",
      "text/plain": [
       "<Figure size 2000x1500 with 9 Axes>"
      ]
     },
     "metadata": {},
     "output_type": "display_data"
    }
   ],
   "source": [
    "freqgraph=data.select_dtypes(include=['float'])\n",
    "freqgraph.hist(figsize=(20,15))\n",
    "plt.show()"
   ]
  },
  {
   "cell_type": "code",
   "execution_count": 9,
   "id": "1be939ec",
   "metadata": {},
   "outputs": [
    {
     "data": {
      "text/plain": [
       "Index(['server_time', 'device_type', 'user_id', 'session_id', 'item_id',\n",
       "       'item_price', 'category', 'product_type', 'impression_time', 'app_code',\n",
       "       'os_version', 'is_4G', 'is_click'],\n",
       "      dtype='object')"
      ]
     },
     "execution_count": 9,
     "metadata": {},
     "output_type": "execute_result"
    }
   ],
   "source": [
    "data.columns"
   ]
  },
  {
   "cell_type": "code",
   "execution_count": 10,
   "id": "9602e459",
   "metadata": {},
   "outputs": [],
   "source": [
    "for col in['user_id', 'session_id', 'item_id','item_price', 'category', 'product_type','app_code']:\n",
    "    data[col]=data[col].fillna(data[col].median())"
   ]
  },
  {
   "cell_type": "code",
   "execution_count": 11,
   "id": "f037d575",
   "metadata": {},
   "outputs": [],
   "source": [
    "data['os_version']=data['os_version'].fillna(data['os_version'].mode().iloc[0])"
   ]
  },
  {
   "cell_type": "code",
   "execution_count": 12,
   "id": "6a9f2fa3",
   "metadata": {},
   "outputs": [
    {
     "data": {
      "text/plain": [
       "server_time        0\n",
       "device_type        0\n",
       "user_id            0\n",
       "session_id         0\n",
       "item_id            0\n",
       "item_price         0\n",
       "category           0\n",
       "product_type       0\n",
       "impression_time    0\n",
       "app_code           0\n",
       "os_version         0\n",
       "is_4G              0\n",
       "is_click           0\n",
       "dtype: int64"
      ]
     },
     "execution_count": 12,
     "metadata": {},
     "output_type": "execute_result"
    }
   ],
   "source": [
    "data.isna().sum()"
   ]
  },
  {
   "cell_type": "markdown",
   "id": "09009378",
   "metadata": {},
   "source": [
    "# outlier handling"
   ]
  },
  {
   "cell_type": "code",
   "execution_count": 13,
   "id": "d089c5b0",
   "metadata": {},
   "outputs": [],
   "source": [
    "num_cols=['user_id', 'session_id', 'item_id',\n",
    "       'item_price', 'category', 'product_type', 'app_code','is_4G', 'is_click']"
   ]
  },
  {
   "cell_type": "code",
   "execution_count": 14,
   "id": "c97e25ef",
   "metadata": {},
   "outputs": [
    {
     "data": {
      "image/png": "[encoded data removed]",
      "text/plain": [
       "<Figure size 640x480 with 1 Axes>"
      ]
     },
     "metadata": {},
     "output_type": "display_data"
    },
    {
     "data": {
      "image/png": "[encoded data removed]",
      "text/plain": [
       "<Figure size 640x480 with 1 Axes>"
      ]
     },
     "metadata": {},
     "output_type": "display_data"
    },
    {
     "data": {
      "image/png": "[encoded data removed]",
      "text/plain": [
       "<Figure size 640x480 with 1 Axes>"
      ]
     },
     "metadata": {},
     "output_type": "display_data"
    },
    {
     "data": {
      "image/png": "[encoded data removed]",
      "text/plain": [
       "<Figure size 640x480 with 1 Axes>"
      ]
     },
     "metadata": {},
     "output_type": "display_data"
    },
    {
     "data": {
      "image/png": "[encoded data removed]",
      "text/plain": [
       "<Figure size 640x480 with 1 Axes>"
      ]
     },
     "metadata": {},
     "output_type": "display_data"
    },
    {
     "data": {
      "image/png": "[encoded data removed]",
      "text/plain": [
       "<Figure size 640x480 with 1 Axes>"
      ]
     },
     "metadata": {},
     "output_type": "display_data"
    },
    {
     "data": {
      "image/png": "[encoded data removed]",
      "text/plain": [
       "<Figure size 640x480 with 1 Axes>"
      ]
     },
     "metadata": {},
     "output_type": "display_data"
    },
    {
     "data": {
      "image/png": "[encoded data removed]",
      "text/plain": [
       "<Figure size 640x480 with 1 Axes>"
      ]
     },
     "metadata": {},
     "output_type": "display_data"
    },
    {
     "data": {
      "image/png": "[encoded data removed]",
      "text/plain": [
       "<Figure size 640x480 with 1 Axes>"
      ]
     },
     "metadata": {},
     "output_type": "display_data"
    }
   ],
   "source": [
    "for i in num_cols:\n",
    "    plt.figure()\n",
    "    plt.boxplot(data[i])\n",
    "    plt.title(i)"
   ]
  },
  {
   "cell_type": "code",
   "execution_count": 15,
   "id": "bc2dd04a",
   "metadata": {},
   "outputs": [
    {
     "name": "stderr",
     "output_type": "stream",
     "text": [
      "C:\\Users\\Public\\Documents\\Wondershare\\CreatorTemp\\ipykernel_8044\\3388736594.py:1: DeprecationWarning: the `interpolation=` argument to percentile was renamed to `method=`, which has additional options.\n",
      "Users of the modes 'nearest', 'lower', 'higher', or 'midpoint' are encouraged to review the method they used. (Deprecated NumPy 1.22)\n",
      "  Q1=np.percentile(data['item_price'],25,interpolation='midpoint')\n",
      "C:\\Users\\Public\\Documents\\Wondershare\\CreatorTemp\\ipykernel_8044\\3388736594.py:2: DeprecationWarning: the `interpolation=` argument to percentile was renamed to `method=`, which has additional options.\n",
      "Users of the modes 'nearest', 'lower', 'higher', or 'midpoint' are encouraged to review the method they used. (Deprecated NumPy 1.22)\n",
      "  Q2=np.percentile(data['item_price'],50,interpolation='midpoint')\n",
      "C:\\Users\\Public\\Documents\\Wondershare\\CreatorTemp\\ipykernel_8044\\3388736594.py:3: DeprecationWarning: the `interpolation=` argument to percentile was renamed to `method=`, which has additional options.\n",
      "Users of the modes 'nearest', 'lower', 'higher', or 'midpoint' are encouraged to review the method they used. (Deprecated NumPy 1.22)\n",
      "  Q3=np.percentile(data['item_price'],75,interpolation='midpoint')\n"
     ]
    }
   ],
   "source": [
    "Q1=np.percentile(data['item_price'],25,interpolation='midpoint')\n",
    "Q2=np.percentile(data['item_price'],50,interpolation='midpoint')\n",
    "Q3=np.percentile(data['item_price'],75,interpolation='midpoint')"
   ]
  },
  {
   "cell_type": "code",
   "execution_count": 16,
   "id": "a51a076a",
   "metadata": {},
   "outputs": [
    {
     "name": "stdout",
     "output_type": "stream",
     "text": [
      "1465.0\n",
      "2425.0\n",
      "4793.0\n"
     ]
    }
   ],
   "source": [
    "print(Q1)\n",
    "print(Q2)\n",
    "print(Q3)"
   ]
  },
  {
   "cell_type": "code",
   "execution_count": 17,
   "id": "e310fa28",
   "metadata": {},
   "outputs": [
    {
     "data": {
      "text/plain": [
       "2425.0"
      ]
     },
     "execution_count": 17,
     "metadata": {},
     "output_type": "execute_result"
    }
   ],
   "source": [
    "data['item_price'].median()"
   ]
  },
  {
   "cell_type": "code",
   "execution_count": 18,
   "id": "222487b8",
   "metadata": {},
   "outputs": [],
   "source": [
    "IQR=Q3-Q1"
   ]
  },
  {
   "cell_type": "code",
   "execution_count": 19,
   "id": "5b43cb9b",
   "metadata": {},
   "outputs": [
    {
     "name": "stdout",
     "output_type": "stream",
     "text": [
      "3328.0\n"
     ]
    }
   ],
   "source": [
    "print(IQR)"
   ]
  },
  {
   "cell_type": "code",
   "execution_count": 20,
   "id": "1532837b",
   "metadata": {},
   "outputs": [],
   "source": [
    "up_lim=Q3+1.5*IQR\n",
    "low_lim=Q1-1.5*IQR"
   ]
  },
  {
   "cell_type": "code",
   "execution_count": 21,
   "id": "e1aedd63",
   "metadata": {},
   "outputs": [
    {
     "name": "stdout",
     "output_type": "stream",
     "text": [
      "9785.0\n",
      "-3527.0\n"
     ]
    }
   ],
   "source": [
    "print(up_lim)\n",
    "print(low_lim)"
   ]
  },
  {
   "cell_type": "code",
   "execution_count": 22,
   "id": "4bbce37c",
   "metadata": {},
   "outputs": [],
   "source": [
    "outliers=[]\n",
    "for x in data['item_price']:\n",
    "    if(x>up_lim) or (x<low_lim):\n",
    "        outliers.append(x)    "
   ]
  },
  {
   "cell_type": "code",
   "execution_count": 23,
   "id": "ebb6f8d0",
   "metadata": {},
   "outputs": [
    {
     "data": {
      "text/plain": [
       "[18118.0,\n",
       " 17856.0,\n",
       " 17222.0,\n",
       " 11462.0,\n",
       " 10246.0,\n",
       " 23040.0,\n",
       " 10822.0,\n",
       " 10816.0,\n",
       " 11712.0,\n",
       " 12221.0,\n",
       " 46656.0,\n",
       " 20492.0,\n",
       " 85760.0,\n",
       " 9990.0,\n",
       " 54336.0,\n",
       " 15296.0,\n",
       " 13984.0,\n",
       " 33984.0,\n",
       " 13420.0,\n",
       " 19526.0,\n",
       " 51136.0,\n",
       " 9959.0,\n",
       " 10758.0,\n",
       " 10886.0,\n",
       " 25472.0,\n",
       " 35136.0,\n",
       " 11404.0,\n",
       " 11456.0,\n",
       " 99507.0,\n",
       " 12280.0,\n",
       " 53625.0,\n",
       " 18668.0,\n",
       " 22208.0,\n",
       " 21409.0,\n",
       " 83776.0,\n",
       " 14906.0,\n",
       " 18557.0,\n",
       " 130154.0,\n",
       " 20416.0,\n",
       " 14080.0,\n",
       " 117849.0,\n",
       " 17222.0,\n",
       " 178099.0,\n",
       " 165665.0,\n",
       " 11369.0,\n",
       " 32576.0,\n",
       " 10240.0,\n",
       " 14016.0,\n",
       " 41369.0,\n",
       " 16416.0,\n",
       " 63936.0,\n",
       " 10087.0,\n",
       " 10310.0,\n",
       " 12096.0,\n",
       " 10298.0,\n",
       " 21120.0,\n",
       " 26956.0,\n",
       " 13000.0,\n",
       " 16960.0,\n",
       " 152652.0,\n",
       " 16128.0,\n",
       " 47936.0,\n",
       " 10039.0,\n",
       " 19008.0,\n",
       " 9792.0,\n",
       " 27545.0,\n",
       " 20160.0,\n",
       " 10310.0,\n",
       " 18278.0,\n",
       " 165665.0,\n",
       " 96768.0,\n",
       " 10816.0,\n",
       " 14656.0,\n",
       " 64000.0,\n",
       " 37916.0,\n",
       " 70336.0,\n",
       " 27400.0,\n",
       " 24969.0,\n",
       " 15808.0,\n",
       " 15296.0,\n",
       " 40256.0,\n",
       " 12672.0,\n",
       " 49016.0,\n",
       " 61056.0,\n",
       " 15968.0,\n",
       " 22348.0,\n",
       " 17665.0,\n",
       " 22912.0,\n",
       " 16265.0,\n",
       " 47360.0,\n",
       " 20428.0,\n",
       " 12736.0,\n",
       " 21248.0,\n",
       " 11392.0,\n",
       " 32808.0,\n",
       " 27443.0,\n",
       " 10771.0,\n",
       " 10944.0,\n",
       " 11008.0,\n",
       " 17664.0,\n",
       " 31040.0,\n",
       " 20416.0,\n",
       " 18346.0,\n",
       " 15232.0,\n",
       " 15936.0,\n",
       " 20505.0,\n",
       " 12793.0,\n",
       " 43968.0,\n",
       " 134122.0,\n",
       " 11136.0,\n",
       " 10586.0,\n",
       " 16704.0,\n",
       " 12608.0,\n",
       " 28108.0,\n",
       " 101760.0,\n",
       " 16416.0,\n",
       " 23360.0,\n",
       " 70336.0,\n",
       " 15296.0,\n",
       " 56256.0,\n",
       " 38336.0,\n",
       " 20672.0,\n",
       " 95172.0,\n",
       " 209825.0,\n",
       " 34150.0,\n",
       " 106624.0,\n",
       " 10240.0,\n",
       " 10176.0,\n",
       " 33299.0,\n",
       " 25459.0,\n",
       " 21811.0,\n",
       " 162462.0,\n",
       " 10112.0,\n",
       " 17318.0,\n",
       " 72320.0,\n",
       " 12885.0,\n",
       " 11456.0,\n",
       " 27091.0,\n",
       " 12038.0,\n",
       " 17006.0,\n",
       " 76160.0,\n",
       " 31936.0,\n",
       " 10176.0,\n",
       " 16704.0,\n",
       " 10310.0,\n",
       " 35004.0,\n",
       " 12729.0,\n",
       " 82624.0,\n",
       " 33728.0,\n",
       " 14976.0,\n",
       " 28224.0,\n",
       " 19219.0,\n",
       " 41088.0,\n",
       " 152320.0,\n",
       " 35136.0,\n",
       " 10137.0,\n",
       " 48064.0,\n",
       " 44736.0,\n",
       " 51206.0,\n",
       " 56473.0,\n",
       " 24364.0,\n",
       " 82963.0,\n",
       " 15296.0,\n",
       " 14656.0,\n",
       " 9792.0,\n",
       " 17792.0,\n",
       " 154944.0,\n",
       " 27417.0,\n",
       " 20160.0,\n",
       " 10064.0,\n",
       " 26144.0,\n",
       " 52147.0,\n",
       " 10499.0,\n",
       " 11456.0,\n",
       " 19756.0,\n",
       " 11052.0,\n",
       " 22924.0,\n",
       " 146304.0,\n",
       " 37114.0,\n",
       " 127360.0,\n",
       " 24710.0,\n",
       " 42058.0,\n",
       " 239360.0,\n",
       " 14841.0,\n",
       " 12153.0,\n",
       " 26176.0,\n",
       " 95328.0,\n",
       " 60928.0,\n",
       " 12185.0,\n",
       " 57873.0,\n",
       " 28736.0,\n",
       " 12032.0,\n",
       " 15232.0,\n",
       " 46038.0,\n",
       " 123488.0,\n",
       " 33875.0,\n",
       " 16576.0,\n",
       " 10064.0,\n",
       " 14342.0,\n",
       " 29651.0,\n",
       " 22336.0,\n",
       " 10736.0,\n",
       " 19008.0,\n",
       " 60928.0,\n",
       " 14656.0,\n",
       " 12672.0,\n",
       " 10886.0,\n",
       " 12092.0,\n",
       " 18284.0,\n",
       " 12992.0,\n",
       " 12096.0,\n",
       " 12373.0,\n",
       " 15296.0,\n",
       " 16320.0,\n",
       " 13248.0,\n",
       " 10246.0,\n",
       " 10310.0,\n",
       " 12928.0,\n",
       " 18777.0,\n",
       " 14144.0,\n",
       " 63288.0,\n",
       " 15449.0,\n",
       " 63948.0,\n",
       " 17856.0,\n",
       " 19776.0,\n",
       " 166355.0,\n",
       " 15721.0,\n",
       " 13132.0,\n",
       " 47488.0,\n",
       " 13975.0,\n",
       " 85248.0,\n",
       " 19136.0,\n",
       " 19136.0,\n",
       " 20291.0,\n",
       " 13491.0,\n",
       " 38336.0,\n",
       " 10758.0,\n",
       " 10240.0,\n",
       " 10310.0,\n",
       " 10800.0,\n",
       " 14400.0,\n",
       " 23372.0,\n",
       " 10886.0,\n",
       " 10252.0,\n",
       " 10246.0]"
      ]
     },
     "execution_count": 23,
     "metadata": {},
     "output_type": "execute_result"
    }
   ],
   "source": [
    "outliers"
   ]
  },
  {
   "cell_type": "code",
   "execution_count": 24,
   "id": "2b9774b3",
   "metadata": {},
   "outputs": [
    {
     "name": "stdout",
     "output_type": "stream",
     "text": [
      "[6, 7, 31, 34, 49, 51, 63, 68, 74, 86, 90, 107, 110, 113, 114, 122, 127, 138, 146, 161, 176, 179, 184, 191, 228, 242, 290, 294, 314, 325, 328, 352, 353, 368, 370, 386, 399, 419, 423, 428, 442, 447, 453, 458, 463, 464, 465, 467, 471, 472, 475, 478, 481, 493, 512, 538, 543, 561, 577, 581, 584, 595, 596, 598, 600, 603, 610, 639, 643, 644, 651, 663, 664, 669, 679, 688, 713, 715, 722, 726, 732, 736, 752, 767, 778, 800, 801, 840, 846, 849, 859, 865, 888, 900, 912, 925, 929, 942, 949, 953, 962, 970, 977, 984, 985, 992, 1000, 1013, 1024, 1025, 1033, 1035, 1037, 1057, 1060, 1063, 1065, 1106, 1113, 1121, 1132, 1140, 1146, 1151, 1157, 1166, 1168, 1182, 1198, 1199, 1204, 1206, 1213, 1238, 1248, 1257, 1264, 1267, 1272, 1278, 1281, 1298, 1305, 1320, 1325, 1327, 1329, 1342, 1359, 1373, 1374, 1376, 1386, 1387, 1393, 1396, 1419, 1424, 1426, 1432, 1445, 1446, 1451, 1455, 1460, 1487, 1488, 1490, 1503, 1511, 1520, 1529, 1535, 1542, 1551, 1556, 1560, 1572, 1580, 1584, 1585, 1586, 1592, 1594, 1599, 1606, 1613, 1632, 1636, 1641, 1644, 1646, 1661, 1670, 1673, 1678, 1695, 1697, 1699, 1709, 1722, 1723, 1724, 1726, 1741, 1743, 1746, 1756, 1769, 1780, 1789, 1790, 1803, 1804, 1805, 1808, 1810, 1813, 1827, 1829, 1832, 1837, 1856, 1857, 1858, 1860, 1861, 1865, 1866, 1868, 1869, 1877, 1879, 1882, 1885, 1933, 1937, 1948, 1953, 1961, 1978, 1981, 1983, 1998, 2012]\n"
     ]
    }
   ],
   "source": [
    "ind1=data['item_price']>up_lim\n",
    "dr=data.loc[ind1].index.tolist()\n",
    "print(dr)"
   ]
  },
  {
   "cell_type": "code",
   "execution_count": 25,
   "id": "c24bb296",
   "metadata": {},
   "outputs": [],
   "source": [
    "backup_data=data.copy()"
   ]
  },
  {
   "cell_type": "code",
   "execution_count": 26,
   "id": "b3ad846d",
   "metadata": {},
   "outputs": [],
   "source": [
    "data.drop([6, 7, 31, 34, 49, 51, 63, 68, 74, 86, 90, 107, 110, 113, 114, 122, 127, 138, 146, 161, 176, 179, 184, 191, 228, 242, 290, 294, 314, 325, 328, 352, 353, 368, 370, 386, 399, 419, 423, 428, 442, 447, 453, 458, 463, 464, 465, 467, 471, 472, 475, 478, 481, 493, 512, 538, 543, 561, 577, 581, 584, 595, 596, 598, 600, 603, 610, 639, 643, 644, 651, 663, 664, 669, 679, 688, 713, 715, 722, 726, 732, 736, 752, 767, 778, 800, 801, 840, 846, 849, 859, 865, 888, 900, 912, 925, 929, 942, 949, 953, 962, 970, 977, 984, 985, 992, 1000, 1013, 1024, 1025, 1033, 1035, 1037, 1057, 1060, 1063, 1065, 1106, 1113, 1121, 1132, 1140, 1146, 1151, 1157, 1166, 1168, 1182, 1198, 1199, 1204, 1206, 1213, 1238, 1248, 1257, 1264, 1267, 1272, 1278, 1281, 1298, 1305, 1320, 1325, 1327, 1329, 1342, 1359, 1373, 1374, 1376, 1386, 1387, 1393, 1396, 1419, 1424, 1426, 1432, 1445, 1446, 1451, 1455, 1460, 1487, 1488, 1490, 1503, 1511, 1520, 1529, 1535, 1542, 1551, 1556, 1560, 1572, 1580, 1584, 1585, 1586, 1592, 1594, 1599, 1606, 1613, 1632, 1636, 1641, 1644, 1646, 1661, 1670, 1673, 1678, 1695, 1697, 1699, 1709, 1722, 1723, 1724, 1726, 1741, 1743, 1746, 1756, 1769, 1780, 1789, 1790, 1803, 1804, 1805, 1808, 1810, 1813, 1827, 1829, 1832, 1837, 1856, 1857, 1858, 1860, 1861, 1865, 1866, 1868, 1869, 1877, 1879, 1882, 1885, 1933, 1937, 1948, 1953, 1961, 1978, 1981, 1983, 1998, 2012],inplace=True)"
   ]
  },
  {
   "cell_type": "code",
   "execution_count": 27,
   "id": "d61c7dbc",
   "metadata": {},
   "outputs": [
    {
     "data": {
      "text/plain": [
       "(1780, 13)"
      ]
     },
     "execution_count": 27,
     "metadata": {},
     "output_type": "execute_result"
    }
   ],
   "source": [
    "data.shape"
   ]
  },
  {
   "cell_type": "markdown",
   "id": "c4ae807b",
   "metadata": {},
   "source": [
    "# one hot encoding"
   ]
  },
  {
   "cell_type": "code",
   "execution_count": 28,
   "id": "2d0ead6e",
   "metadata": {},
   "outputs": [],
   "source": [
    "data1=pd.get_dummies(data)"
   ]
  },
  {
   "cell_type": "code",
   "execution_count": 29,
   "id": "c212f332",
   "metadata": {},
   "outputs": [
    {
     "data": {
      "text/plain": [
       "(1780, 15)"
      ]
     },
     "execution_count": 29,
     "metadata": {},
     "output_type": "execute_result"
    }
   ],
   "source": [
    "data1.shape"
   ]
  },
  {
   "cell_type": "code",
   "execution_count": 30,
   "id": "4ec9b47c",
   "metadata": {},
   "outputs": [
    {
     "data": {
      "text/plain": [
       "server_time        datetime64[ns]\n",
       "device_type                object\n",
       "user_id                   float64\n",
       "session_id                float64\n",
       "item_id                   float64\n",
       "item_price                float64\n",
       "category                  float64\n",
       "product_type              float64\n",
       "impression_time    datetime64[ns]\n",
       "app_code                  float64\n",
       "os_version                 object\n",
       "is_4G                       int64\n",
       "is_click                    int64\n",
       "dtype: object"
      ]
     },
     "execution_count": 30,
     "metadata": {},
     "output_type": "execute_result"
    }
   ],
   "source": [
    "data.dtypes"
   ]
  },
  {
   "cell_type": "code",
   "execution_count": 31,
   "id": "3cd0f41d",
   "metadata": {},
   "outputs": [
    {
     "data": {
      "text/plain": [
       "1"
      ]
     },
     "execution_count": 31,
     "metadata": {},
     "output_type": "execute_result"
    }
   ],
   "source": [
    "data['device_type'].nunique()"
   ]
  },
  {
   "cell_type": "code",
   "execution_count": 32,
   "id": "94966454",
   "metadata": {},
   "outputs": [
    {
     "data": {
      "text/plain": [
       "3"
      ]
     },
     "execution_count": 32,
     "metadata": {},
     "output_type": "execute_result"
    }
   ],
   "source": [
    "data['os_version'].nunique()"
   ]
  },
  {
   "cell_type": "code",
   "execution_count": 33,
   "id": "ef951ee8",
   "metadata": {},
   "outputs": [
    {
     "data": {
      "text/html": [
       "<div>\n",
       "<style scoped>\n",
       "    .dataframe tbody tr th:only-of-type {\n",
       "        vertical-align: middle;\n",
       "    }\n",
       "\n",
       "    .dataframe tbody tr th {\n",
       "        vertical-align: top;\n",
       "    }\n",
       "\n",
       "    .dataframe thead th {\n",
       "        text-align: right;\n",
       "    }\n",
       "</style>\n",
       "<table border=\"1\" class=\"dataframe\">\n",
       "  <thead>\n",
       "    <tr style=\"text-align: right;\">\n",
       "      <th></th>\n",
       "      <th>server_time</th>\n",
       "      <th>user_id</th>\n",
       "      <th>session_id</th>\n",
       "      <th>item_id</th>\n",
       "      <th>item_price</th>\n",
       "      <th>category</th>\n",
       "      <th>product_type</th>\n",
       "      <th>impression_time</th>\n",
       "      <th>app_code</th>\n",
       "      <th>is_4G</th>\n",
       "      <th>is_click</th>\n",
       "      <th>device_type_android</th>\n",
       "      <th>os_version_intermediate</th>\n",
       "      <th>os_version_latest</th>\n",
       "      <th>os_version_old</th>\n",
       "    </tr>\n",
       "  </thead>\n",
       "  <tbody>\n",
       "    <tr>\n",
       "      <th>0</th>\n",
       "      <td>2018-10-18 14:27:00</td>\n",
       "      <td>87862.0</td>\n",
       "      <td>268465.0</td>\n",
       "      <td>44459.0</td>\n",
       "      <td>4602.0</td>\n",
       "      <td>11.0</td>\n",
       "      <td>3040.0</td>\n",
       "      <td>2018-11-15 00:00:00</td>\n",
       "      <td>422.0</td>\n",
       "      <td>0</td>\n",
       "      <td>0</td>\n",
       "      <td>1</td>\n",
       "      <td>0</td>\n",
       "      <td>0</td>\n",
       "      <td>1</td>\n",
       "    </tr>\n",
       "    <tr>\n",
       "      <th>1</th>\n",
       "      <td>2018-10-18 14:27:00</td>\n",
       "      <td>63410.0</td>\n",
       "      <td>268465.0</td>\n",
       "      <td>44459.0</td>\n",
       "      <td>3513.0</td>\n",
       "      <td>12.0</td>\n",
       "      <td>6822.0</td>\n",
       "      <td>2018-11-15 00:01:00</td>\n",
       "      <td>467.0</td>\n",
       "      <td>1</td>\n",
       "      <td>1</td>\n",
       "      <td>1</td>\n",
       "      <td>0</td>\n",
       "      <td>1</td>\n",
       "      <td>0</td>\n",
       "    </tr>\n",
       "    <tr>\n",
       "      <th>2</th>\n",
       "      <td>2018-10-18 14:43:00</td>\n",
       "      <td>71748.0</td>\n",
       "      <td>268465.0</td>\n",
       "      <td>44459.0</td>\n",
       "      <td>825.0</td>\n",
       "      <td>17.0</td>\n",
       "      <td>1619.0</td>\n",
       "      <td>2018-11-15 00:02:00</td>\n",
       "      <td>259.0</td>\n",
       "      <td>1</td>\n",
       "      <td>0</td>\n",
       "      <td>1</td>\n",
       "      <td>1</td>\n",
       "      <td>0</td>\n",
       "      <td>0</td>\n",
       "    </tr>\n",
       "    <tr>\n",
       "      <th>3</th>\n",
       "      <td>2018-10-18 14:46:00</td>\n",
       "      <td>69209.0</td>\n",
       "      <td>268465.0</td>\n",
       "      <td>44459.0</td>\n",
       "      <td>2355.0</td>\n",
       "      <td>13.0</td>\n",
       "      <td>5264.0</td>\n",
       "      <td>2018-11-15 00:02:00</td>\n",
       "      <td>244.0</td>\n",
       "      <td>1</td>\n",
       "      <td>0</td>\n",
       "      <td>1</td>\n",
       "      <td>0</td>\n",
       "      <td>1</td>\n",
       "      <td>0</td>\n",
       "    </tr>\n",
       "    <tr>\n",
       "      <th>4</th>\n",
       "      <td>2018-10-18 14:46:00</td>\n",
       "      <td>62873.0</td>\n",
       "      <td>268465.0</td>\n",
       "      <td>44459.0</td>\n",
       "      <td>1267.0</td>\n",
       "      <td>17.0</td>\n",
       "      <td>10239.0</td>\n",
       "      <td>2018-11-15 00:02:00</td>\n",
       "      <td>473.0</td>\n",
       "      <td>0</td>\n",
       "      <td>0</td>\n",
       "      <td>1</td>\n",
       "      <td>0</td>\n",
       "      <td>1</td>\n",
       "      <td>0</td>\n",
       "    </tr>\n",
       "  </tbody>\n",
       "</table>\n",
       "</div>"
      ],
      "text/plain": [
       "          server_time  user_id  session_id  item_id  item_price  category  \\\n",
       "0 2018-10-18 14:27:00  87862.0    268465.0  44459.0      4602.0      11.0   \n",
       "1 2018-10-18 14:27:00  63410.0    268465.0  44459.0      3513.0      12.0   \n",
       "2 2018-10-18 14:43:00  71748.0    268465.0  44459.0       825.0      17.0   \n",
       "3 2018-10-18 14:46:00  69209.0    268465.0  44459.0      2355.0      13.0   \n",
       "4 2018-10-18 14:46:00  62873.0    268465.0  44459.0      1267.0      17.0   \n",
       "\n",
       "   product_type     impression_time  app_code  is_4G  is_click  \\\n",
       "0        3040.0 2018-11-15 00:00:00     422.0      0         0   \n",
       "1        6822.0 2018-11-15 00:01:00     467.0      1         1   \n",
       "2        1619.0 2018-11-15 00:02:00     259.0      1         0   \n",
       "3        5264.0 2018-11-15 00:02:00     244.0      1         0   \n",
       "4       10239.0 2018-11-15 00:02:00     473.0      0         0   \n",
       "\n",
       "   device_type_android  os_version_intermediate  os_version_latest  \\\n",
       "0                    1                        0                  0   \n",
       "1                    1                        0                  1   \n",
       "2                    1                        1                  0   \n",
       "3                    1                        0                  1   \n",
       "4                    1                        0                  1   \n",
       "\n",
       "   os_version_old  \n",
       "0               1  \n",
       "1               0  \n",
       "2               0  \n",
       "3               0  \n",
       "4               0  "
      ]
     },
     "execution_count": 33,
     "metadata": {},
     "output_type": "execute_result"
    }
   ],
   "source": [
    "data1.head()"
   ]
  },
  {
   "cell_type": "markdown",
   "id": "4c96b9b9",
   "metadata": {},
   "source": [
    "# label encoding"
   ]
  },
  {
   "cell_type": "code",
   "execution_count": 34,
   "id": "cb32330c",
   "metadata": {},
   "outputs": [
    {
     "data": {
      "text/html": [
       "<div>\n",
       "<style scoped>\n",
       "    .dataframe tbody tr th:only-of-type {\n",
       "        vertical-align: middle;\n",
       "    }\n",
       "\n",
       "    .dataframe tbody tr th {\n",
       "        vertical-align: top;\n",
       "    }\n",
       "\n",
       "    .dataframe thead th {\n",
       "        text-align: right;\n",
       "    }\n",
       "</style>\n",
       "<table border=\"1\" class=\"dataframe\">\n",
       "  <thead>\n",
       "    <tr style=\"text-align: right;\">\n",
       "      <th></th>\n",
       "      <th>server_time</th>\n",
       "      <th>device_type</th>\n",
       "      <th>user_id</th>\n",
       "      <th>session_id</th>\n",
       "      <th>item_id</th>\n",
       "      <th>item_price</th>\n",
       "      <th>category</th>\n",
       "      <th>product_type</th>\n",
       "      <th>impression_time</th>\n",
       "      <th>app_code</th>\n",
       "      <th>os_version</th>\n",
       "      <th>is_4G</th>\n",
       "      <th>is_click</th>\n",
       "    </tr>\n",
       "  </thead>\n",
       "  <tbody>\n",
       "    <tr>\n",
       "      <th>0</th>\n",
       "      <td>2018-10-18 14:27:00</td>\n",
       "      <td>android</td>\n",
       "      <td>87862.0</td>\n",
       "      <td>268465.0</td>\n",
       "      <td>44459.0</td>\n",
       "      <td>4602.0</td>\n",
       "      <td>11.0</td>\n",
       "      <td>3040.0</td>\n",
       "      <td>2018-11-15 00:00:00</td>\n",
       "      <td>422.0</td>\n",
       "      <td>old</td>\n",
       "      <td>0</td>\n",
       "      <td>0</td>\n",
       "    </tr>\n",
       "    <tr>\n",
       "      <th>1</th>\n",
       "      <td>2018-10-18 14:27:00</td>\n",
       "      <td>android</td>\n",
       "      <td>63410.0</td>\n",
       "      <td>268465.0</td>\n",
       "      <td>44459.0</td>\n",
       "      <td>3513.0</td>\n",
       "      <td>12.0</td>\n",
       "      <td>6822.0</td>\n",
       "      <td>2018-11-15 00:01:00</td>\n",
       "      <td>467.0</td>\n",
       "      <td>latest</td>\n",
       "      <td>1</td>\n",
       "      <td>1</td>\n",
       "    </tr>\n",
       "    <tr>\n",
       "      <th>2</th>\n",
       "      <td>2018-10-18 14:43:00</td>\n",
       "      <td>android</td>\n",
       "      <td>71748.0</td>\n",
       "      <td>268465.0</td>\n",
       "      <td>44459.0</td>\n",
       "      <td>825.0</td>\n",
       "      <td>17.0</td>\n",
       "      <td>1619.0</td>\n",
       "      <td>2018-11-15 00:02:00</td>\n",
       "      <td>259.0</td>\n",
       "      <td>intermediate</td>\n",
       "      <td>1</td>\n",
       "      <td>0</td>\n",
       "    </tr>\n",
       "    <tr>\n",
       "      <th>3</th>\n",
       "      <td>2018-10-18 14:46:00</td>\n",
       "      <td>android</td>\n",
       "      <td>69209.0</td>\n",
       "      <td>268465.0</td>\n",
       "      <td>44459.0</td>\n",
       "      <td>2355.0</td>\n",
       "      <td>13.0</td>\n",
       "      <td>5264.0</td>\n",
       "      <td>2018-11-15 00:02:00</td>\n",
       "      <td>244.0</td>\n",
       "      <td>latest</td>\n",
       "      <td>1</td>\n",
       "      <td>0</td>\n",
       "    </tr>\n",
       "    <tr>\n",
       "      <th>4</th>\n",
       "      <td>2018-10-18 14:46:00</td>\n",
       "      <td>android</td>\n",
       "      <td>62873.0</td>\n",
       "      <td>268465.0</td>\n",
       "      <td>44459.0</td>\n",
       "      <td>1267.0</td>\n",
       "      <td>17.0</td>\n",
       "      <td>10239.0</td>\n",
       "      <td>2018-11-15 00:02:00</td>\n",
       "      <td>473.0</td>\n",
       "      <td>latest</td>\n",
       "      <td>0</td>\n",
       "      <td>0</td>\n",
       "    </tr>\n",
       "  </tbody>\n",
       "</table>\n",
       "</div>"
      ],
      "text/plain": [
       "          server_time device_type  user_id  session_id  item_id  item_price  \\\n",
       "0 2018-10-18 14:27:00     android  87862.0    268465.0  44459.0      4602.0   \n",
       "1 2018-10-18 14:27:00     android  63410.0    268465.0  44459.0      3513.0   \n",
       "2 2018-10-18 14:43:00     android  71748.0    268465.0  44459.0       825.0   \n",
       "3 2018-10-18 14:46:00     android  69209.0    268465.0  44459.0      2355.0   \n",
       "4 2018-10-18 14:46:00     android  62873.0    268465.0  44459.0      1267.0   \n",
       "\n",
       "   category  product_type     impression_time  app_code    os_version  is_4G  \\\n",
       "0      11.0        3040.0 2018-11-15 00:00:00     422.0           old      0   \n",
       "1      12.0        6822.0 2018-11-15 00:01:00     467.0        latest      1   \n",
       "2      17.0        1619.0 2018-11-15 00:02:00     259.0  intermediate      1   \n",
       "3      13.0        5264.0 2018-11-15 00:02:00     244.0        latest      1   \n",
       "4      17.0       10239.0 2018-11-15 00:02:00     473.0        latest      0   \n",
       "\n",
       "   is_click  \n",
       "0         0  \n",
       "1         1  \n",
       "2         0  \n",
       "3         0  \n",
       "4         0  "
      ]
     },
     "execution_count": 34,
     "metadata": {},
     "output_type": "execute_result"
    }
   ],
   "source": [
    "data.head()"
   ]
  },
  {
   "cell_type": "code",
   "execution_count": 35,
   "id": "bb5cbbcd",
   "metadata": {},
   "outputs": [],
   "source": [
    "from sklearn.preprocessing import LabelEncoder"
   ]
  },
  {
   "cell_type": "code",
   "execution_count": 36,
   "id": "0a4bcfb6",
   "metadata": {},
   "outputs": [],
   "source": [
    "le=LabelEncoder()"
   ]
  },
  {
   "cell_type": "code",
   "execution_count": 37,
   "id": "7ca4eaac",
   "metadata": {},
   "outputs": [],
   "source": [
    "data['device_type']=le.fit_transform(data['device_type'])"
   ]
  },
  {
   "cell_type": "code",
   "execution_count": 38,
   "id": "5860a55b",
   "metadata": {},
   "outputs": [
    {
     "data": {
      "text/html": [
       "<div>\n",
       "<style scoped>\n",
       "    .dataframe tbody tr th:only-of-type {\n",
       "        vertical-align: middle;\n",
       "    }\n",
       "\n",
       "    .dataframe tbody tr th {\n",
       "        vertical-align: top;\n",
       "    }\n",
       "\n",
       "    .dataframe thead th {\n",
       "        text-align: right;\n",
       "    }\n",
       "</style>\n",
       "<table border=\"1\" class=\"dataframe\">\n",
       "  <thead>\n",
       "    <tr style=\"text-align: right;\">\n",
       "      <th></th>\n",
       "      <th>server_time</th>\n",
       "      <th>device_type</th>\n",
       "      <th>user_id</th>\n",
       "      <th>session_id</th>\n",
       "      <th>item_id</th>\n",
       "      <th>item_price</th>\n",
       "      <th>category</th>\n",
       "      <th>product_type</th>\n",
       "      <th>impression_time</th>\n",
       "      <th>app_code</th>\n",
       "      <th>os_version</th>\n",
       "      <th>is_4G</th>\n",
       "      <th>is_click</th>\n",
       "    </tr>\n",
       "  </thead>\n",
       "  <tbody>\n",
       "    <tr>\n",
       "      <th>0</th>\n",
       "      <td>2018-10-18 14:27:00</td>\n",
       "      <td>0</td>\n",
       "      <td>87862.0</td>\n",
       "      <td>268465.0</td>\n",
       "      <td>44459.0</td>\n",
       "      <td>4602.0</td>\n",
       "      <td>11.0</td>\n",
       "      <td>3040.0</td>\n",
       "      <td>2018-11-15 00:00:00</td>\n",
       "      <td>422.0</td>\n",
       "      <td>old</td>\n",
       "      <td>0</td>\n",
       "      <td>0</td>\n",
       "    </tr>\n",
       "    <tr>\n",
       "      <th>1</th>\n",
       "      <td>2018-10-18 14:27:00</td>\n",
       "      <td>0</td>\n",
       "      <td>63410.0</td>\n",
       "      <td>268465.0</td>\n",
       "      <td>44459.0</td>\n",
       "      <td>3513.0</td>\n",
       "      <td>12.0</td>\n",
       "      <td>6822.0</td>\n",
       "      <td>2018-11-15 00:01:00</td>\n",
       "      <td>467.0</td>\n",
       "      <td>latest</td>\n",
       "      <td>1</td>\n",
       "      <td>1</td>\n",
       "    </tr>\n",
       "    <tr>\n",
       "      <th>2</th>\n",
       "      <td>2018-10-18 14:43:00</td>\n",
       "      <td>0</td>\n",
       "      <td>71748.0</td>\n",
       "      <td>268465.0</td>\n",
       "      <td>44459.0</td>\n",
       "      <td>825.0</td>\n",
       "      <td>17.0</td>\n",
       "      <td>1619.0</td>\n",
       "      <td>2018-11-15 00:02:00</td>\n",
       "      <td>259.0</td>\n",
       "      <td>intermediate</td>\n",
       "      <td>1</td>\n",
       "      <td>0</td>\n",
       "    </tr>\n",
       "    <tr>\n",
       "      <th>3</th>\n",
       "      <td>2018-10-18 14:46:00</td>\n",
       "      <td>0</td>\n",
       "      <td>69209.0</td>\n",
       "      <td>268465.0</td>\n",
       "      <td>44459.0</td>\n",
       "      <td>2355.0</td>\n",
       "      <td>13.0</td>\n",
       "      <td>5264.0</td>\n",
       "      <td>2018-11-15 00:02:00</td>\n",
       "      <td>244.0</td>\n",
       "      <td>latest</td>\n",
       "      <td>1</td>\n",
       "      <td>0</td>\n",
       "    </tr>\n",
       "    <tr>\n",
       "      <th>4</th>\n",
       "      <td>2018-10-18 14:46:00</td>\n",
       "      <td>0</td>\n",
       "      <td>62873.0</td>\n",
       "      <td>268465.0</td>\n",
       "      <td>44459.0</td>\n",
       "      <td>1267.0</td>\n",
       "      <td>17.0</td>\n",
       "      <td>10239.0</td>\n",
       "      <td>2018-11-15 00:02:00</td>\n",
       "      <td>473.0</td>\n",
       "      <td>latest</td>\n",
       "      <td>0</td>\n",
       "      <td>0</td>\n",
       "    </tr>\n",
       "  </tbody>\n",
       "</table>\n",
       "</div>"
      ],
      "text/plain": [
       "          server_time  device_type  user_id  session_id  item_id  item_price  \\\n",
       "0 2018-10-18 14:27:00            0  87862.0    268465.0  44459.0      4602.0   \n",
       "1 2018-10-18 14:27:00            0  63410.0    268465.0  44459.0      3513.0   \n",
       "2 2018-10-18 14:43:00            0  71748.0    268465.0  44459.0       825.0   \n",
       "3 2018-10-18 14:46:00            0  69209.0    268465.0  44459.0      2355.0   \n",
       "4 2018-10-18 14:46:00            0  62873.0    268465.0  44459.0      1267.0   \n",
       "\n",
       "   category  product_type     impression_time  app_code    os_version  is_4G  \\\n",
       "0      11.0        3040.0 2018-11-15 00:00:00     422.0           old      0   \n",
       "1      12.0        6822.0 2018-11-15 00:01:00     467.0        latest      1   \n",
       "2      17.0        1619.0 2018-11-15 00:02:00     259.0  intermediate      1   \n",
       "3      13.0        5264.0 2018-11-15 00:02:00     244.0        latest      1   \n",
       "4      17.0       10239.0 2018-11-15 00:02:00     473.0        latest      0   \n",
       "\n",
       "   is_click  \n",
       "0         0  \n",
       "1         1  \n",
       "2         0  \n",
       "3         0  \n",
       "4         0  "
      ]
     },
     "execution_count": 38,
     "metadata": {},
     "output_type": "execute_result"
    }
   ],
   "source": [
    "data.head()"
   ]
  },
  {
   "cell_type": "code",
   "execution_count": 39,
   "id": "5e4ed482",
   "metadata": {},
   "outputs": [
    {
     "data": {
      "text/plain": [
       "array([0])"
      ]
     },
     "execution_count": 39,
     "metadata": {},
     "output_type": "execute_result"
    }
   ],
   "source": [
    "data['device_type'].unique()"
   ]
  },
  {
   "cell_type": "markdown",
   "id": "b5b6920a",
   "metadata": {},
   "source": [
    "# Min max scaling"
   ]
  },
  {
   "cell_type": "code",
   "execution_count": 67,
   "id": "c3495150",
   "metadata": {},
   "outputs": [],
   "source": [
    "x=data.drop('is_click',axis=1)"
   ]
  },
  {
   "cell_type": "code",
   "execution_count": 68,
   "id": "9a8d3d38",
   "metadata": {},
   "outputs": [],
   "source": [
    "y=data['is_click']"
   ]
  },
  {
   "cell_type": "code",
   "execution_count": 69,
   "id": "edb32e2e",
   "metadata": {},
   "outputs": [
    {
     "data": {
      "text/html": [
       "<div>\n",
       "<style scoped>\n",
       "    .dataframe tbody tr th:only-of-type {\n",
       "        vertical-align: middle;\n",
       "    }\n",
       "\n",
       "    .dataframe tbody tr th {\n",
       "        vertical-align: top;\n",
       "    }\n",
       "\n",
       "    .dataframe thead th {\n",
       "        text-align: right;\n",
       "    }\n",
       "</style>\n",
       "<table border=\"1\" class=\"dataframe\">\n",
       "  <thead>\n",
       "    <tr style=\"text-align: right;\">\n",
       "      <th></th>\n",
       "      <th>device_type</th>\n",
       "      <th>user_id</th>\n",
       "      <th>session_id</th>\n",
       "      <th>item_id</th>\n",
       "      <th>item_price</th>\n",
       "      <th>category</th>\n",
       "      <th>product_type</th>\n",
       "      <th>app_code</th>\n",
       "      <th>is_4G</th>\n",
       "    </tr>\n",
       "  </thead>\n",
       "  <tbody>\n",
       "    <tr>\n",
       "      <th>count</th>\n",
       "      <td>1780.0</td>\n",
       "      <td>1780.000000</td>\n",
       "      <td>1.780000e+03</td>\n",
       "      <td>1780.000000</td>\n",
       "      <td>1780.000000</td>\n",
       "      <td>1780.000000</td>\n",
       "      <td>1780.000000</td>\n",
       "      <td>1780.000000</td>\n",
       "      <td>1780.000000</td>\n",
       "    </tr>\n",
       "    <tr>\n",
       "      <th>mean</th>\n",
       "      <td>0.0</td>\n",
       "      <td>46729.493820</td>\n",
       "      <td>5.467858e+05</td>\n",
       "      <td>63532.398876</td>\n",
       "      <td>2774.356180</td>\n",
       "      <td>10.260112</td>\n",
       "      <td>5367.814888</td>\n",
       "      <td>244.198876</td>\n",
       "      <td>0.342697</td>\n",
       "    </tr>\n",
       "    <tr>\n",
       "      <th>std</th>\n",
       "      <td>0.0</td>\n",
       "      <td>26387.962825</td>\n",
       "      <td>3.087378e+05</td>\n",
       "      <td>36639.606662</td>\n",
       "      <td>2034.199606</td>\n",
       "      <td>4.840605</td>\n",
       "      <td>3077.228646</td>\n",
       "      <td>124.634935</td>\n",
       "      <td>0.474744</td>\n",
       "    </tr>\n",
       "    <tr>\n",
       "      <th>min</th>\n",
       "      <td>0.0</td>\n",
       "      <td>10.000000</td>\n",
       "      <td>1.694000e+03</td>\n",
       "      <td>176.000000</td>\n",
       "      <td>16.000000</td>\n",
       "      <td>0.000000</td>\n",
       "      <td>8.000000</td>\n",
       "      <td>1.000000</td>\n",
       "      <td>0.000000</td>\n",
       "    </tr>\n",
       "    <tr>\n",
       "      <th>25%</th>\n",
       "      <td>0.0</td>\n",
       "      <td>24882.250000</td>\n",
       "      <td>2.738070e+05</td>\n",
       "      <td>34687.000000</td>\n",
       "      <td>1273.000000</td>\n",
       "      <td>7.000000</td>\n",
       "      <td>2739.500000</td>\n",
       "      <td>190.000000</td>\n",
       "      <td>0.000000</td>\n",
       "    </tr>\n",
       "    <tr>\n",
       "      <th>50%</th>\n",
       "      <td>0.0</td>\n",
       "      <td>46148.000000</td>\n",
       "      <td>5.440370e+05</td>\n",
       "      <td>63579.500000</td>\n",
       "      <td>2240.000000</td>\n",
       "      <td>11.000000</td>\n",
       "      <td>5403.000000</td>\n",
       "      <td>207.000000</td>\n",
       "      <td>0.000000</td>\n",
       "    </tr>\n",
       "    <tr>\n",
       "      <th>75%</th>\n",
       "      <td>0.0</td>\n",
       "      <td>69426.000000</td>\n",
       "      <td>7.992640e+05</td>\n",
       "      <td>90815.000000</td>\n",
       "      <td>3713.250000</td>\n",
       "      <td>13.000000</td>\n",
       "      <td>8121.000000</td>\n",
       "      <td>371.000000</td>\n",
       "      <td>1.000000</td>\n",
       "    </tr>\n",
       "    <tr>\n",
       "      <th>max</th>\n",
       "      <td>0.0</td>\n",
       "      <td>92508.000000</td>\n",
       "      <td>1.089219e+06</td>\n",
       "      <td>132865.000000</td>\n",
       "      <td>9780.000000</td>\n",
       "      <td>17.000000</td>\n",
       "      <td>10573.000000</td>\n",
       "      <td>508.000000</td>\n",
       "      <td>1.000000</td>\n",
       "    </tr>\n",
       "  </tbody>\n",
       "</table>\n",
       "</div>"
      ],
      "text/plain": [
       "       device_type       user_id    session_id        item_id   item_price  \\\n",
       "count       1780.0   1780.000000  1.780000e+03    1780.000000  1780.000000   \n",
       "mean           0.0  46729.493820  5.467858e+05   63532.398876  2774.356180   \n",
       "std            0.0  26387.962825  3.087378e+05   36639.606662  2034.199606   \n",
       "min            0.0     10.000000  1.694000e+03     176.000000    16.000000   \n",
       "25%            0.0  24882.250000  2.738070e+05   34687.000000  1273.000000   \n",
       "50%            0.0  46148.000000  5.440370e+05   63579.500000  2240.000000   \n",
       "75%            0.0  69426.000000  7.992640e+05   90815.000000  3713.250000   \n",
       "max            0.0  92508.000000  1.089219e+06  132865.000000  9780.000000   \n",
       "\n",
       "          category  product_type     app_code        is_4G  \n",
       "count  1780.000000   1780.000000  1780.000000  1780.000000  \n",
       "mean     10.260112   5367.814888   244.198876     0.342697  \n",
       "std       4.840605   3077.228646   124.634935     0.474744  \n",
       "min       0.000000      8.000000     1.000000     0.000000  \n",
       "25%       7.000000   2739.500000   190.000000     0.000000  \n",
       "50%      11.000000   5403.000000   207.000000     0.000000  \n",
       "75%      13.000000   8121.000000   371.000000     1.000000  \n",
       "max      17.000000  10573.000000   508.000000     1.000000  "
      ]
     },
     "execution_count": 69,
     "metadata": {},
     "output_type": "execute_result"
    }
   ],
   "source": [
    "x.describe()"
   ]
  },
  {
   "cell_type": "code",
   "execution_count": 57,
   "id": "91e25cf8",
   "metadata": {},
   "outputs": [],
   "source": [
    "x1=x.drop(['device_type','os_version','server_time','impression_time'],axis=1)"
   ]
  },
  {
   "cell_type": "code",
   "execution_count": 58,
   "id": "48157dd6",
   "metadata": {},
   "outputs": [
    {
     "data": {
      "text/html": [
       "<div>\n",
       "<style scoped>\n",
       "    .dataframe tbody tr th:only-of-type {\n",
       "        vertical-align: middle;\n",
       "    }\n",
       "\n",
       "    .dataframe tbody tr th {\n",
       "        vertical-align: top;\n",
       "    }\n",
       "\n",
       "    .dataframe thead th {\n",
       "        text-align: right;\n",
       "    }\n",
       "</style>\n",
       "<table border=\"1\" class=\"dataframe\">\n",
       "  <thead>\n",
       "    <tr style=\"text-align: right;\">\n",
       "      <th></th>\n",
       "      <th>user_id</th>\n",
       "      <th>session_id</th>\n",
       "      <th>item_id</th>\n",
       "      <th>item_price</th>\n",
       "      <th>category</th>\n",
       "      <th>product_type</th>\n",
       "      <th>app_code</th>\n",
       "      <th>is_4G</th>\n",
       "    </tr>\n",
       "  </thead>\n",
       "  <tbody>\n",
       "    <tr>\n",
       "      <th>0</th>\n",
       "      <td>87862.0</td>\n",
       "      <td>268465.0</td>\n",
       "      <td>44459.0</td>\n",
       "      <td>4602.0</td>\n",
       "      <td>11.0</td>\n",
       "      <td>3040.0</td>\n",
       "      <td>422.0</td>\n",
       "      <td>0</td>\n",
       "    </tr>\n",
       "    <tr>\n",
       "      <th>1</th>\n",
       "      <td>63410.0</td>\n",
       "      <td>268465.0</td>\n",
       "      <td>44459.0</td>\n",
       "      <td>3513.0</td>\n",
       "      <td>12.0</td>\n",
       "      <td>6822.0</td>\n",
       "      <td>467.0</td>\n",
       "      <td>1</td>\n",
       "    </tr>\n",
       "    <tr>\n",
       "      <th>2</th>\n",
       "      <td>71748.0</td>\n",
       "      <td>268465.0</td>\n",
       "      <td>44459.0</td>\n",
       "      <td>825.0</td>\n",
       "      <td>17.0</td>\n",
       "      <td>1619.0</td>\n",
       "      <td>259.0</td>\n",
       "      <td>1</td>\n",
       "    </tr>\n",
       "    <tr>\n",
       "      <th>3</th>\n",
       "      <td>69209.0</td>\n",
       "      <td>268465.0</td>\n",
       "      <td>44459.0</td>\n",
       "      <td>2355.0</td>\n",
       "      <td>13.0</td>\n",
       "      <td>5264.0</td>\n",
       "      <td>244.0</td>\n",
       "      <td>1</td>\n",
       "    </tr>\n",
       "    <tr>\n",
       "      <th>4</th>\n",
       "      <td>62873.0</td>\n",
       "      <td>268465.0</td>\n",
       "      <td>44459.0</td>\n",
       "      <td>1267.0</td>\n",
       "      <td>17.0</td>\n",
       "      <td>10239.0</td>\n",
       "      <td>473.0</td>\n",
       "      <td>0</td>\n",
       "    </tr>\n",
       "  </tbody>\n",
       "</table>\n",
       "</div>"
      ],
      "text/plain": [
       "   user_id  session_id  item_id  item_price  category  product_type  app_code  \\\n",
       "0  87862.0    268465.0  44459.0      4602.0      11.0        3040.0     422.0   \n",
       "1  63410.0    268465.0  44459.0      3513.0      12.0        6822.0     467.0   \n",
       "2  71748.0    268465.0  44459.0       825.0      17.0        1619.0     259.0   \n",
       "3  69209.0    268465.0  44459.0      2355.0      13.0        5264.0     244.0   \n",
       "4  62873.0    268465.0  44459.0      1267.0      17.0       10239.0     473.0   \n",
       "\n",
       "   is_4G  \n",
       "0      0  \n",
       "1      1  \n",
       "2      1  \n",
       "3      1  \n",
       "4      0  "
      ]
     },
     "execution_count": 58,
     "metadata": {},
     "output_type": "execute_result"
    }
   ],
   "source": [
    "x1.head()"
   ]
  },
  {
   "cell_type": "code",
   "execution_count": 59,
   "id": "64d64107",
   "metadata": {},
   "outputs": [],
   "source": [
    "from sklearn.preprocessing  import MinMaxScaler"
   ]
  },
  {
   "cell_type": "code",
   "execution_count": 60,
   "id": "2aa1f090",
   "metadata": {},
   "outputs": [],
   "source": [
    "min_max=MinMaxScaler()"
   ]
  },
  {
   "cell_type": "code",
   "execution_count": 61,
   "id": "f43182b0",
   "metadata": {},
   "outputs": [],
   "source": [
    "x1=min_max.fit_transform(x1)"
   ]
  },
  {
   "cell_type": "code",
   "execution_count": 62,
   "id": "818d0b8b",
   "metadata": {},
   "outputs": [
    {
     "data": {
      "text/plain": [
       "numpy.ndarray"
      ]
     },
     "execution_count": 62,
     "metadata": {},
     "output_type": "execute_result"
    }
   ],
   "source": [
    "type(x1)"
   ]
  },
  {
   "cell_type": "code",
   "execution_count": 63,
   "id": "b194c1ba",
   "metadata": {},
   "outputs": [],
   "source": [
    "x1=pd.DataFrame(x1,columns=['user_id','session_id','item_id','item_price','category','product_type','app_code','is_4G'])"
   ]
  },
  {
   "cell_type": "code",
   "execution_count": 64,
   "id": "a6ab6a95",
   "metadata": {},
   "outputs": [
    {
     "data": {
      "text/html": [
       "<div>\n",
       "<style scoped>\n",
       "    .dataframe tbody tr th:only-of-type {\n",
       "        vertical-align: middle;\n",
       "    }\n",
       "\n",
       "    .dataframe tbody tr th {\n",
       "        vertical-align: top;\n",
       "    }\n",
       "\n",
       "    .dataframe thead th {\n",
       "        text-align: right;\n",
       "    }\n",
       "</style>\n",
       "<table border=\"1\" class=\"dataframe\">\n",
       "  <thead>\n",
       "    <tr style=\"text-align: right;\">\n",
       "      <th></th>\n",
       "      <th>user_id</th>\n",
       "      <th>session_id</th>\n",
       "      <th>item_id</th>\n",
       "      <th>item_price</th>\n",
       "      <th>category</th>\n",
       "      <th>product_type</th>\n",
       "      <th>app_code</th>\n",
       "      <th>is_4G</th>\n",
       "    </tr>\n",
       "  </thead>\n",
       "  <tbody>\n",
       "    <tr>\n",
       "      <th>count</th>\n",
       "      <td>1780.000000</td>\n",
       "      <td>1780.000000</td>\n",
       "      <td>1780.000000</td>\n",
       "      <td>1780.000000</td>\n",
       "      <td>1780.000000</td>\n",
       "      <td>1780.000000</td>\n",
       "      <td>1780.000000</td>\n",
       "      <td>1780.000000</td>\n",
       "    </tr>\n",
       "    <tr>\n",
       "      <th>mean</th>\n",
       "      <td>0.505087</td>\n",
       "      <td>0.501222</td>\n",
       "      <td>0.477480</td>\n",
       "      <td>0.282503</td>\n",
       "      <td>0.603536</td>\n",
       "      <td>0.507318</td>\n",
       "      <td>0.479682</td>\n",
       "      <td>0.342697</td>\n",
       "    </tr>\n",
       "    <tr>\n",
       "      <th>std</th>\n",
       "      <td>0.285281</td>\n",
       "      <td>0.283890</td>\n",
       "      <td>0.276131</td>\n",
       "      <td>0.208337</td>\n",
       "      <td>0.284741</td>\n",
       "      <td>0.291266</td>\n",
       "      <td>0.245828</td>\n",
       "      <td>0.474744</td>\n",
       "    </tr>\n",
       "    <tr>\n",
       "      <th>min</th>\n",
       "      <td>0.000000</td>\n",
       "      <td>0.000000</td>\n",
       "      <td>0.000000</td>\n",
       "      <td>0.000000</td>\n",
       "      <td>0.000000</td>\n",
       "      <td>0.000000</td>\n",
       "      <td>0.000000</td>\n",
       "      <td>0.000000</td>\n",
       "    </tr>\n",
       "    <tr>\n",
       "      <th>25%</th>\n",
       "      <td>0.268895</td>\n",
       "      <td>0.250213</td>\n",
       "      <td>0.260089</td>\n",
       "      <td>0.128738</td>\n",
       "      <td>0.411765</td>\n",
       "      <td>0.258542</td>\n",
       "      <td>0.372781</td>\n",
       "      <td>0.000000</td>\n",
       "    </tr>\n",
       "    <tr>\n",
       "      <th>50%</th>\n",
       "      <td>0.498800</td>\n",
       "      <td>0.498695</td>\n",
       "      <td>0.477835</td>\n",
       "      <td>0.227776</td>\n",
       "      <td>0.647059</td>\n",
       "      <td>0.510648</td>\n",
       "      <td>0.406312</td>\n",
       "      <td>0.000000</td>\n",
       "    </tr>\n",
       "    <tr>\n",
       "      <th>75%</th>\n",
       "      <td>0.750459</td>\n",
       "      <td>0.733381</td>\n",
       "      <td>0.683094</td>\n",
       "      <td>0.378661</td>\n",
       "      <td>0.764706</td>\n",
       "      <td>0.767913</td>\n",
       "      <td>0.729783</td>\n",
       "      <td>1.000000</td>\n",
       "    </tr>\n",
       "    <tr>\n",
       "      <th>max</th>\n",
       "      <td>1.000000</td>\n",
       "      <td>1.000000</td>\n",
       "      <td>1.000000</td>\n",
       "      <td>1.000000</td>\n",
       "      <td>1.000000</td>\n",
       "      <td>1.000000</td>\n",
       "      <td>1.000000</td>\n",
       "      <td>1.000000</td>\n",
       "    </tr>\n",
       "  </tbody>\n",
       "</table>\n",
       "</div>"
      ],
      "text/plain": [
       "           user_id   session_id      item_id   item_price     category  \\\n",
       "count  1780.000000  1780.000000  1780.000000  1780.000000  1780.000000   \n",
       "mean      0.505087     0.501222     0.477480     0.282503     0.603536   \n",
       "std       0.285281     0.283890     0.276131     0.208337     0.284741   \n",
       "min       0.000000     0.000000     0.000000     0.000000     0.000000   \n",
       "25%       0.268895     0.250213     0.260089     0.128738     0.411765   \n",
       "50%       0.498800     0.498695     0.477835     0.227776     0.647059   \n",
       "75%       0.750459     0.733381     0.683094     0.378661     0.764706   \n",
       "max       1.000000     1.000000     1.000000     1.000000     1.000000   \n",
       "\n",
       "       product_type     app_code        is_4G  \n",
       "count   1780.000000  1780.000000  1780.000000  \n",
       "mean       0.507318     0.479682     0.342697  \n",
       "std        0.291266     0.245828     0.474744  \n",
       "min        0.000000     0.000000     0.000000  \n",
       "25%        0.258542     0.372781     0.000000  \n",
       "50%        0.510648     0.406312     0.000000  \n",
       "75%        0.767913     0.729783     1.000000  \n",
       "max        1.000000     1.000000     1.000000  "
      ]
     },
     "execution_count": 64,
     "metadata": {},
     "output_type": "execute_result"
    }
   ],
   "source": [
    "x1.describe()"
   ]
  },
  {
   "cell_type": "markdown",
   "id": "9625a4df",
   "metadata": {},
   "source": [
    "# Standard scaling"
   ]
  },
  {
   "cell_type": "code",
   "execution_count": 71,
   "id": "636cc827",
   "metadata": {},
   "outputs": [
    {
     "data": {
      "text/html": [
       "<div>\n",
       "<style scoped>\n",
       "    .dataframe tbody tr th:only-of-type {\n",
       "        vertical-align: middle;\n",
       "    }\n",
       "\n",
       "    .dataframe tbody tr th {\n",
       "        vertical-align: top;\n",
       "    }\n",
       "\n",
       "    .dataframe thead th {\n",
       "        text-align: right;\n",
       "    }\n",
       "</style>\n",
       "<table border=\"1\" class=\"dataframe\">\n",
       "  <thead>\n",
       "    <tr style=\"text-align: right;\">\n",
       "      <th></th>\n",
       "      <th>device_type</th>\n",
       "      <th>user_id</th>\n",
       "      <th>session_id</th>\n",
       "      <th>item_id</th>\n",
       "      <th>item_price</th>\n",
       "      <th>category</th>\n",
       "      <th>product_type</th>\n",
       "      <th>app_code</th>\n",
       "      <th>is_4G</th>\n",
       "    </tr>\n",
       "  </thead>\n",
       "  <tbody>\n",
       "    <tr>\n",
       "      <th>count</th>\n",
       "      <td>1780.0</td>\n",
       "      <td>1780.000000</td>\n",
       "      <td>1.780000e+03</td>\n",
       "      <td>1780.000000</td>\n",
       "      <td>1780.000000</td>\n",
       "      <td>1780.000000</td>\n",
       "      <td>1780.000000</td>\n",
       "      <td>1780.000000</td>\n",
       "      <td>1780.000000</td>\n",
       "    </tr>\n",
       "    <tr>\n",
       "      <th>mean</th>\n",
       "      <td>0.0</td>\n",
       "      <td>46729.493820</td>\n",
       "      <td>5.467858e+05</td>\n",
       "      <td>63532.398876</td>\n",
       "      <td>2774.356180</td>\n",
       "      <td>10.260112</td>\n",
       "      <td>5367.814888</td>\n",
       "      <td>244.198876</td>\n",
       "      <td>0.342697</td>\n",
       "    </tr>\n",
       "    <tr>\n",
       "      <th>std</th>\n",
       "      <td>0.0</td>\n",
       "      <td>26387.962825</td>\n",
       "      <td>3.087378e+05</td>\n",
       "      <td>36639.606662</td>\n",
       "      <td>2034.199606</td>\n",
       "      <td>4.840605</td>\n",
       "      <td>3077.228646</td>\n",
       "      <td>124.634935</td>\n",
       "      <td>0.474744</td>\n",
       "    </tr>\n",
       "    <tr>\n",
       "      <th>min</th>\n",
       "      <td>0.0</td>\n",
       "      <td>10.000000</td>\n",
       "      <td>1.694000e+03</td>\n",
       "      <td>176.000000</td>\n",
       "      <td>16.000000</td>\n",
       "      <td>0.000000</td>\n",
       "      <td>8.000000</td>\n",
       "      <td>1.000000</td>\n",
       "      <td>0.000000</td>\n",
       "    </tr>\n",
       "    <tr>\n",
       "      <th>25%</th>\n",
       "      <td>0.0</td>\n",
       "      <td>24882.250000</td>\n",
       "      <td>2.738070e+05</td>\n",
       "      <td>34687.000000</td>\n",
       "      <td>1273.000000</td>\n",
       "      <td>7.000000</td>\n",
       "      <td>2739.500000</td>\n",
       "      <td>190.000000</td>\n",
       "      <td>0.000000</td>\n",
       "    </tr>\n",
       "    <tr>\n",
       "      <th>50%</th>\n",
       "      <td>0.0</td>\n",
       "      <td>46148.000000</td>\n",
       "      <td>5.440370e+05</td>\n",
       "      <td>63579.500000</td>\n",
       "      <td>2240.000000</td>\n",
       "      <td>11.000000</td>\n",
       "      <td>5403.000000</td>\n",
       "      <td>207.000000</td>\n",
       "      <td>0.000000</td>\n",
       "    </tr>\n",
       "    <tr>\n",
       "      <th>75%</th>\n",
       "      <td>0.0</td>\n",
       "      <td>69426.000000</td>\n",
       "      <td>7.992640e+05</td>\n",
       "      <td>90815.000000</td>\n",
       "      <td>3713.250000</td>\n",
       "      <td>13.000000</td>\n",
       "      <td>8121.000000</td>\n",
       "      <td>371.000000</td>\n",
       "      <td>1.000000</td>\n",
       "    </tr>\n",
       "    <tr>\n",
       "      <th>max</th>\n",
       "      <td>0.0</td>\n",
       "      <td>92508.000000</td>\n",
       "      <td>1.089219e+06</td>\n",
       "      <td>132865.000000</td>\n",
       "      <td>9780.000000</td>\n",
       "      <td>17.000000</td>\n",
       "      <td>10573.000000</td>\n",
       "      <td>508.000000</td>\n",
       "      <td>1.000000</td>\n",
       "    </tr>\n",
       "  </tbody>\n",
       "</table>\n",
       "</div>"
      ],
      "text/plain": [
       "       device_type       user_id    session_id        item_id   item_price  \\\n",
       "count       1780.0   1780.000000  1.780000e+03    1780.000000  1780.000000   \n",
       "mean           0.0  46729.493820  5.467858e+05   63532.398876  2774.356180   \n",
       "std            0.0  26387.962825  3.087378e+05   36639.606662  2034.199606   \n",
       "min            0.0     10.000000  1.694000e+03     176.000000    16.000000   \n",
       "25%            0.0  24882.250000  2.738070e+05   34687.000000  1273.000000   \n",
       "50%            0.0  46148.000000  5.440370e+05   63579.500000  2240.000000   \n",
       "75%            0.0  69426.000000  7.992640e+05   90815.000000  3713.250000   \n",
       "max            0.0  92508.000000  1.089219e+06  132865.000000  9780.000000   \n",
       "\n",
       "          category  product_type     app_code        is_4G  \n",
       "count  1780.000000   1780.000000  1780.000000  1780.000000  \n",
       "mean     10.260112   5367.814888   244.198876     0.342697  \n",
       "std       4.840605   3077.228646   124.634935     0.474744  \n",
       "min       0.000000      8.000000     1.000000     0.000000  \n",
       "25%       7.000000   2739.500000   190.000000     0.000000  \n",
       "50%      11.000000   5403.000000   207.000000     0.000000  \n",
       "75%      13.000000   8121.000000   371.000000     1.000000  \n",
       "max      17.000000  10573.000000   508.000000     1.000000  "
      ]
     },
     "execution_count": 71,
     "metadata": {},
     "output_type": "execute_result"
    }
   ],
   "source": [
    "x.describe()"
   ]
  },
  {
   "cell_type": "code",
   "execution_count": 72,
   "id": "c2813724",
   "metadata": {},
   "outputs": [],
   "source": [
    "x2=x.drop(['device_type','os_version','server_time','impression_time'],axis=1)"
   ]
  },
  {
   "cell_type": "code",
   "execution_count": 73,
   "id": "481efac9",
   "metadata": {},
   "outputs": [],
   "source": [
    "from sklearn.preprocessing import StandardScaler"
   ]
  },
  {
   "cell_type": "code",
   "execution_count": 74,
   "id": "83437f00",
   "metadata": {},
   "outputs": [],
   "source": [
    "std_scl=StandardScaler()"
   ]
  },
  {
   "cell_type": "code",
   "execution_count": 75,
   "id": "da7de4bf",
   "metadata": {},
   "outputs": [],
   "source": [
    "x2=std_scl.fit_transform(x2)"
   ]
  },
  {
   "cell_type": "code",
   "execution_count": 76,
   "id": "2cd627bb",
   "metadata": {},
   "outputs": [
    {
     "data": {
      "text/plain": [
       "numpy.ndarray"
      ]
     },
     "execution_count": 76,
     "metadata": {},
     "output_type": "execute_result"
    }
   ],
   "source": [
    "type(x2)"
   ]
  },
  {
   "cell_type": "code",
   "execution_count": 77,
   "id": "75fa64e1",
   "metadata": {},
   "outputs": [],
   "source": [
    "x2=pd.DataFrame(x2,columns=['user_id','session_id','item_id','item_price','category','product_type','app_code','is_4G'])"
   ]
  },
  {
   "cell_type": "code",
   "execution_count": 78,
   "id": "0251973d",
   "metadata": {},
   "outputs": [
    {
     "data": {
      "text/html": [
       "<div>\n",
       "<style scoped>\n",
       "    .dataframe tbody tr th:only-of-type {\n",
       "        vertical-align: middle;\n",
       "    }\n",
       "\n",
       "    .dataframe tbody tr th {\n",
       "        vertical-align: top;\n",
       "    }\n",
       "\n",
       "    .dataframe thead th {\n",
       "        text-align: right;\n",
       "    }\n",
       "</style>\n",
       "<table border=\"1\" class=\"dataframe\">\n",
       "  <thead>\n",
       "    <tr style=\"text-align: right;\">\n",
       "      <th></th>\n",
       "      <th>user_id</th>\n",
       "      <th>session_id</th>\n",
       "      <th>item_id</th>\n",
       "      <th>item_price</th>\n",
       "      <th>category</th>\n",
       "      <th>product_type</th>\n",
       "      <th>app_code</th>\n",
       "      <th>is_4G</th>\n",
       "    </tr>\n",
       "  </thead>\n",
       "  <tbody>\n",
       "    <tr>\n",
       "      <th>count</th>\n",
       "      <td>1.780000e+03</td>\n",
       "      <td>1.780000e+03</td>\n",
       "      <td>1.780000e+03</td>\n",
       "      <td>1780.000000</td>\n",
       "      <td>1.780000e+03</td>\n",
       "      <td>1.780000e+03</td>\n",
       "      <td>1.780000e+03</td>\n",
       "      <td>1.780000e+03</td>\n",
       "    </tr>\n",
       "    <tr>\n",
       "      <th>mean</th>\n",
       "      <td>-8.183217e-17</td>\n",
       "      <td>5.987720e-18</td>\n",
       "      <td>7.983626e-17</td>\n",
       "      <td>0.000000</td>\n",
       "      <td>1.097749e-16</td>\n",
       "      <td>2.594679e-17</td>\n",
       "      <td>9.181170e-17</td>\n",
       "      <td>3.991813e-18</td>\n",
       "    </tr>\n",
       "    <tr>\n",
       "      <th>std</th>\n",
       "      <td>1.000281e+00</td>\n",
       "      <td>1.000281e+00</td>\n",
       "      <td>1.000281e+00</td>\n",
       "      <td>1.000281</td>\n",
       "      <td>1.000281e+00</td>\n",
       "      <td>1.000281e+00</td>\n",
       "      <td>1.000281e+00</td>\n",
       "      <td>1.000281e+00</td>\n",
       "    </tr>\n",
       "    <tr>\n",
       "      <th>min</th>\n",
       "      <td>-1.770983e+00</td>\n",
       "      <td>-1.766045e+00</td>\n",
       "      <td>-1.729664e+00</td>\n",
       "      <td>-1.356372</td>\n",
       "      <td>-2.120188e+00</td>\n",
       "      <td>-1.742256e+00</td>\n",
       "      <td>-1.951838e+00</td>\n",
       "      <td>-7.220578e-01</td>\n",
       "    </tr>\n",
       "    <tr>\n",
       "      <th>25%</th>\n",
       "      <td>-8.281573e-01</td>\n",
       "      <td>-8.844253e-01</td>\n",
       "      <td>-7.874949e-01</td>\n",
       "      <td>-0.738265</td>\n",
       "      <td>-6.736820e-01</td>\n",
       "      <td>-8.543575e-01</td>\n",
       "      <td>-4.349832e-01</td>\n",
       "      <td>-7.220578e-01</td>\n",
       "    </tr>\n",
       "    <tr>\n",
       "      <th>50%</th>\n",
       "      <td>-2.204252e-02</td>\n",
       "      <td>-8.905908e-03</td>\n",
       "      <td>1.285886e-03</td>\n",
       "      <td>-0.262760</td>\n",
       "      <td>1.528932e-01</td>\n",
       "      <td>1.143724e-02</td>\n",
       "      <td>-2.985465e-01</td>\n",
       "      <td>-7.220578e-01</td>\n",
       "    </tr>\n",
       "    <tr>\n",
       "      <th>75%</th>\n",
       "      <td>8.603500e-01</td>\n",
       "      <td>8.180052e-01</td>\n",
       "      <td>7.448297e-01</td>\n",
       "      <td>0.461684</td>\n",
       "      <td>5.661808e-01</td>\n",
       "      <td>8.949477e-01</td>\n",
       "      <td>1.017666e+00</td>\n",
       "      <td>1.384931e+00</td>\n",
       "    </tr>\n",
       "    <tr>\n",
       "      <th>max</th>\n",
       "      <td>1.735313e+00</td>\n",
       "      <td>1.757432e+00</td>\n",
       "      <td>1.892817e+00</td>\n",
       "      <td>3.444899</td>\n",
       "      <td>1.392756e+00</td>\n",
       "      <td>1.691993e+00</td>\n",
       "      <td>2.117185e+00</td>\n",
       "      <td>1.384931e+00</td>\n",
       "    </tr>\n",
       "  </tbody>\n",
       "</table>\n",
       "</div>"
      ],
      "text/plain": [
       "            user_id    session_id       item_id   item_price      category  \\\n",
       "count  1.780000e+03  1.780000e+03  1.780000e+03  1780.000000  1.780000e+03   \n",
       "mean  -8.183217e-17  5.987720e-18  7.983626e-17     0.000000  1.097749e-16   \n",
       "std    1.000281e+00  1.000281e+00  1.000281e+00     1.000281  1.000281e+00   \n",
       "min   -1.770983e+00 -1.766045e+00 -1.729664e+00    -1.356372 -2.120188e+00   \n",
       "25%   -8.281573e-01 -8.844253e-01 -7.874949e-01    -0.738265 -6.736820e-01   \n",
       "50%   -2.204252e-02 -8.905908e-03  1.285886e-03    -0.262760  1.528932e-01   \n",
       "75%    8.603500e-01  8.180052e-01  7.448297e-01     0.461684  5.661808e-01   \n",
       "max    1.735313e+00  1.757432e+00  1.892817e+00     3.444899  1.392756e+00   \n",
       "\n",
       "       product_type      app_code         is_4G  \n",
       "count  1.780000e+03  1.780000e+03  1.780000e+03  \n",
       "mean   2.594679e-17  9.181170e-17  3.991813e-18  \n",
       "std    1.000281e+00  1.000281e+00  1.000281e+00  \n",
       "min   -1.742256e+00 -1.951838e+00 -7.220578e-01  \n",
       "25%   -8.543575e-01 -4.349832e-01 -7.220578e-01  \n",
       "50%    1.143724e-02 -2.985465e-01 -7.220578e-01  \n",
       "75%    8.949477e-01  1.017666e+00  1.384931e+00  \n",
       "max    1.691993e+00  2.117185e+00  1.384931e+00  "
      ]
     },
     "execution_count": 78,
     "metadata": {},
     "output_type": "execute_result"
    }
   ],
   "source": [
    "x2.describe()"
   ]
  },
  {
   "cell_type": "code",
   "execution_count": null,
   "id": "299e775f",
   "metadata": {},
   "outputs": [],
   "source": []
  }
 ],
 "metadata": {
  "kernelspec": {
   "display_name": "Python 3 (ipykernel)",
   "language": "python",
   "name": "python3"
  },
  "language_info": {
   "codemirror_mode": {
    "name": "ipython",
    "version": 3
   },
   "file_extension": ".py",
   "mimetype": "text/x-python",
   "name": "python",
   "nbconvert_exporter": "python",
   "pygments_lexer": "ipython3",
   "version": "3.10.9"
  }
 },
 "nbformat": 4,
 "nbformat_minor": 5
}
